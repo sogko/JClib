{
 "cells": [
  {
   "cell_type": "code",
   "execution_count": 1,
   "metadata": {},
   "outputs": [
    {
     "name": "stdout",
     "output_type": "stream",
     "text": [
      "ivp base <class 'numpy.ndarray'> [ 2.   3.   4.   0.2  0.1 -0.1] dim\n",
      "base check dtype <class 'float'>\n",
      "base check astype <class 'numpy.ndarray'> [ 2.   3.   4.   0.2  0.1 -0.1] 1\n",
      "da <class 'numpy.ndarray'> [ 2.   3.   4.   0.2  0.1 -0.1] [[ 2.   3.   4. ]\n",
      " [ 0.2  0.1 -0.1]]\n",
      "db <class 'numpy.ndarray'> [ 2.   3.   4.   0.2  0.1 -0.1] [[ 2.   3.   4. ]\n",
      " [ 0.2  0.1 -0.1]]\n"
     ]
    },
    {
     "ename": "ValueError",
     "evalue": "operands could not be broadcast together with shapes (2,3) (6,) ",
     "output_type": "error",
     "traceback": [
      "\u001b[1;31m---------------------------------------------------------------------------\u001b[0m",
      "\u001b[1;31mValueError\u001b[0m                                Traceback (most recent call last)",
      "Cell \u001b[1;32mIn[1], line 24\u001b[0m\n\u001b[0;32m     22\u001b[0m dt \u001b[39m=\u001b[39m \u001b[39m.5\u001b[39m\u001b[39m/\u001b[39m\u001b[39m1000\u001b[39m\n\u001b[0;32m     23\u001b[0m start \u001b[39m=\u001b[39m time\u001b[39m.\u001b[39mtime()\n\u001b[1;32m---> 24\u001b[0m sol \u001b[39m=\u001b[39m solve_ivp(\u001b[39mlambda\u001b[39;49;00m t, ab: [da(t, ab), db(t, ab)], t_span, ab0_reshaped, method\u001b[39m=\u001b[39;49m\u001b[39m'\u001b[39;49m\u001b[39mBDF\u001b[39;49m\u001b[39m'\u001b[39;49m, rtol\u001b[39m=\u001b[39;49m\u001b[39m1e-6\u001b[39;49m, atol\u001b[39m=\u001b[39;49m\u001b[39m1e-9\u001b[39;49m)\n\u001b[0;32m     25\u001b[0m end \u001b[39m=\u001b[39m time\u001b[39m.\u001b[39mtime()\n\u001b[0;32m     26\u001b[0m \u001b[39mprint\u001b[39m(np\u001b[39m.\u001b[39msize(sol\u001b[39m.\u001b[39mt), end\u001b[39m-\u001b[39mstart)\n",
      "File \u001b[1;32mc:\\Users\\Hafiz\\dev\\JClib\\JClib\\.conda\\lib\\site-packages\\scipy\\integrate\\_ivp\\ivp.py:557\u001b[0m, in \u001b[0;36msolve_ivp\u001b[1;34m(fun, t_span, y0, method, t_eval, dense_output, events, vectorized, args, **options)\u001b[0m\n\u001b[0;32m    554\u001b[0m \u001b[39mif\u001b[39;00m method \u001b[39min\u001b[39;00m METHODS:\n\u001b[0;32m    555\u001b[0m     method \u001b[39m=\u001b[39m METHODS[method]\n\u001b[1;32m--> 557\u001b[0m solver \u001b[39m=\u001b[39m method(fun, t0, y0, tf, vectorized\u001b[39m=\u001b[39mvectorized, \u001b[39m*\u001b[39m\u001b[39m*\u001b[39moptions)\n\u001b[0;32m    559\u001b[0m \u001b[39mif\u001b[39;00m t_eval \u001b[39mis\u001b[39;00m \u001b[39mNone\u001b[39;00m:\n\u001b[0;32m    560\u001b[0m     ts \u001b[39m=\u001b[39m [t0]\n",
      "File \u001b[1;32mc:\\Users\\Hafiz\\dev\\JClib\\JClib\\.conda\\lib\\site-packages\\scipy\\integrate\\_ivp\\bdf.py:198\u001b[0m, in \u001b[0;36mBDF.__init__\u001b[1;34m(self, fun, t0, y0, t_bound, max_step, rtol, atol, jac, jac_sparsity, vectorized, first_step, **extraneous)\u001b[0m\n\u001b[0;32m    196\u001b[0m f \u001b[39m=\u001b[39m \u001b[39mself\u001b[39m\u001b[39m.\u001b[39mfun(\u001b[39mself\u001b[39m\u001b[39m.\u001b[39mt, \u001b[39mself\u001b[39m\u001b[39m.\u001b[39my)\n\u001b[0;32m    197\u001b[0m \u001b[39mif\u001b[39;00m first_step \u001b[39mis\u001b[39;00m \u001b[39mNone\u001b[39;00m:\n\u001b[1;32m--> 198\u001b[0m     \u001b[39mself\u001b[39m\u001b[39m.\u001b[39mh_abs \u001b[39m=\u001b[39m select_initial_step(\u001b[39mself\u001b[39;49m\u001b[39m.\u001b[39;49mfun, \u001b[39mself\u001b[39;49m\u001b[39m.\u001b[39;49mt, \u001b[39mself\u001b[39;49m\u001b[39m.\u001b[39;49my, f,\n\u001b[0;32m    199\u001b[0m                                      \u001b[39mself\u001b[39;49m\u001b[39m.\u001b[39;49mdirection, \u001b[39m1\u001b[39;49m,\n\u001b[0;32m    200\u001b[0m                                      \u001b[39mself\u001b[39;49m\u001b[39m.\u001b[39;49mrtol, \u001b[39mself\u001b[39;49m\u001b[39m.\u001b[39;49matol)\n\u001b[0;32m    201\u001b[0m \u001b[39melse\u001b[39;00m:\n\u001b[0;32m    202\u001b[0m     \u001b[39mself\u001b[39m\u001b[39m.\u001b[39mh_abs \u001b[39m=\u001b[39m validate_first_step(first_step, t0, t_bound)\n",
      "File \u001b[1;32mc:\\Users\\Hafiz\\dev\\JClib\\JClib\\.conda\\lib\\site-packages\\scipy\\integrate\\_ivp\\common.py:106\u001b[0m, in \u001b[0;36mselect_initial_step\u001b[1;34m(fun, t0, y0, f0, direction, order, rtol, atol)\u001b[0m\n\u001b[0;32m    104\u001b[0m scale \u001b[39m=\u001b[39m atol \u001b[39m+\u001b[39m np\u001b[39m.\u001b[39mabs(y0) \u001b[39m*\u001b[39m rtol\n\u001b[0;32m    105\u001b[0m d0 \u001b[39m=\u001b[39m norm(y0 \u001b[39m/\u001b[39m scale)\n\u001b[1;32m--> 106\u001b[0m d1 \u001b[39m=\u001b[39m norm(f0 \u001b[39m/\u001b[39;49m scale)\n\u001b[0;32m    107\u001b[0m \u001b[39mif\u001b[39;00m d0 \u001b[39m<\u001b[39m \u001b[39m1e-5\u001b[39m \u001b[39mor\u001b[39;00m d1 \u001b[39m<\u001b[39m \u001b[39m1e-5\u001b[39m:\n\u001b[0;32m    108\u001b[0m     h0 \u001b[39m=\u001b[39m \u001b[39m1e-6\u001b[39m\n",
      "\u001b[1;31mValueError\u001b[0m: operands could not be broadcast together with shapes (2,3) (6,) "
     ]
    }
   ],
   "source": [
    "## Chatgpt suggests:\n",
    "import numpy as np\n",
    "from scipy.integrate import solve_ivp\n",
    "import time\n",
    "\n",
    "def da(t, ab):\n",
    "    print(\"da\", type(ab), ab, ab.reshape(2,3))\n",
    "    a, b = ab.reshape(2,3)\n",
    "    res = a*b + b\n",
    "    return res.reshape(6,)\n",
    "\n",
    "def db(t, ab):\n",
    "    print(\"db\", type(ab), ab, ab.reshape(2,3))\n",
    "    a, b = ab.reshape(2,3)\n",
    "    res = a/b - b*2\n",
    "    return res.reshape(6,)\n",
    "\n",
    "a0 = [2,3,4]\n",
    "b0 = [0.2,0.1,-0.1]\n",
    "ab0 = [a0, b0]\n",
    "ab0_reshaped = np.array([a0, b0]).reshape(6, )\n",
    "t_span = [0, 3.9]\n",
    "tlist = np.linspace(0,.5,1000)\n",
    "dt = .5/1000\n",
    "start = time.time()\n",
    "sol = solve_ivp(lambda t, ab: [da(t, ab), db(t, ab)], t_span, ab0_reshaped, method='BDF', rtol=1e-6, atol=1e-9)\n",
    "end = time.time()\n",
    "print(np.size(sol.t), end-start)\n",
    "a = sol.y[0]\n",
    "b = sol.y[1]\n",
    "\n",
    "print(\"The values of a and b at t=5 are:\", a[-1], b[-1])"
   ]
  }
 ],
 "metadata": {
  "kernelspec": {
   "display_name": "Python 3",
   "language": "python",
   "name": "python3"
  },
  "language_info": {
   "codemirror_mode": {
    "name": "ipython",
    "version": 3
   },
   "file_extension": ".py",
   "mimetype": "text/x-python",
   "name": "python",
   "nbconvert_exporter": "python",
   "pygments_lexer": "ipython3",
   "version": "3.10.9"
  },
  "orig_nbformat": 4,
  "vscode": {
   "interpreter": {
    "hash": "3f7a7bf18bd1bd9052247904ff066e6961efc94dddc6a123f39adcf1594c56fc"
   }
  }
 },
 "nbformat": 4,
 "nbformat_minor": 2
}
