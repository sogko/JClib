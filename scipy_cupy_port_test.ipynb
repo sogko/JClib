{
 "cells": [
  {
   "cell_type": "code",
   "execution_count": 3,
   "metadata": {},
   "outputs": [
    {
     "ename": "ModuleNotFoundError",
     "evalue": "No module named 'scipy_cupy.sparse'",
     "output_type": "error",
     "traceback": [
      "\u001b[1;31m---------------------------------------------------------------------------\u001b[0m",
      "\u001b[1;31mModuleNotFoundError\u001b[0m                       Traceback (most recent call last)",
      "\u001b[1;32m~\\AppData\\Local\\Temp\\ipykernel_16712\\119908606.py\u001b[0m in \u001b[0;36m<module>\u001b[1;34m\u001b[0m\n\u001b[0;32m      8\u001b[0m \u001b[1;32mfrom\u001b[0m \u001b[0mscipy\u001b[0m\u001b[1;33m.\u001b[0m\u001b[0mintegrate\u001b[0m\u001b[1;33m.\u001b[0m\u001b[0m_ivp\u001b[0m\u001b[1;33m.\u001b[0m\u001b[0mivp\u001b[0m \u001b[1;32mimport\u001b[0m \u001b[0mOdeResult\u001b[0m\u001b[1;33m\u001b[0m\u001b[1;33m\u001b[0m\u001b[0m\n\u001b[0;32m      9\u001b[0m \u001b[1;33m\u001b[0m\u001b[0m\n\u001b[1;32m---> 10\u001b[1;33m \u001b[1;32mfrom\u001b[0m \u001b[0mscipy_cupy\u001b[0m\u001b[1;33m.\u001b[0m\u001b[0mivp\u001b[0m \u001b[1;32mimport\u001b[0m \u001b[0msolve_ivp\u001b[0m \u001b[1;32mas\u001b[0m \u001b[0msolve_ivp_cupy\u001b[0m\u001b[1;33m\u001b[0m\u001b[1;33m\u001b[0m\u001b[0m\n\u001b[0m\u001b[0;32m     11\u001b[0m \u001b[1;32mfrom\u001b[0m \u001b[0mscipy_cupy\u001b[0m\u001b[1;33m.\u001b[0m\u001b[0mivp\u001b[0m\u001b[1;33m.\u001b[0m\u001b[0mivp\u001b[0m \u001b[1;32mimport\u001b[0m \u001b[0mOdeResult\u001b[0m \u001b[1;32mas\u001b[0m \u001b[0mOdeResultCupyCustom\u001b[0m\u001b[1;33m\u001b[0m\u001b[1;33m\u001b[0m\u001b[0m\n\u001b[0;32m     12\u001b[0m \u001b[1;33m\u001b[0m\u001b[0m\n",
      "\u001b[1;32mc:\\Users\\Hafiz\\dev\\JClib\\JClib\\scipy_cupy\\ivp\\__init__.py\u001b[0m in \u001b[0;36m<module>\u001b[1;34m\u001b[0m\n\u001b[0;32m      1\u001b[0m \u001b[1;34m\"\"\"Suite of ODE solvers implemented in Python.\"\"\"\u001b[0m\u001b[1;33m\u001b[0m\u001b[1;33m\u001b[0m\u001b[0m\n\u001b[1;32m----> 2\u001b[1;33m \u001b[1;32mfrom\u001b[0m \u001b[1;33m.\u001b[0m\u001b[0mivp\u001b[0m \u001b[1;32mimport\u001b[0m \u001b[0msolve_ivp\u001b[0m\u001b[1;33m\u001b[0m\u001b[1;33m\u001b[0m\u001b[0m\n\u001b[0m\u001b[0;32m      3\u001b[0m \u001b[1;32mfrom\u001b[0m \u001b[1;33m.\u001b[0m\u001b[0mrk\u001b[0m \u001b[1;32mimport\u001b[0m \u001b[0mRK23\u001b[0m\u001b[1;33m,\u001b[0m \u001b[0mRK45\u001b[0m\u001b[1;33m,\u001b[0m \u001b[0mDOP853\u001b[0m\u001b[1;33m\u001b[0m\u001b[1;33m\u001b[0m\u001b[0m\n\u001b[0;32m      4\u001b[0m \u001b[1;32mfrom\u001b[0m \u001b[1;33m.\u001b[0m\u001b[0mradau\u001b[0m \u001b[1;32mimport\u001b[0m \u001b[0mRadau\u001b[0m\u001b[1;33m\u001b[0m\u001b[1;33m\u001b[0m\u001b[0m\n\u001b[0;32m      5\u001b[0m \u001b[1;32mfrom\u001b[0m \u001b[1;33m.\u001b[0m\u001b[0mbdf\u001b[0m \u001b[1;32mimport\u001b[0m \u001b[0mBDF\u001b[0m\u001b[1;33m\u001b[0m\u001b[1;33m\u001b[0m\u001b[0m\n",
      "\u001b[1;32mc:\\Users\\Hafiz\\dev\\JClib\\JClib\\scipy_cupy\\ivp\\ivp.py\u001b[0m in \u001b[0;36m<module>\u001b[1;34m\u001b[0m\n\u001b[0;32m      6\u001b[0m \u001b[1;32mfrom\u001b[0m \u001b[1;33m.\u001b[0m\u001b[0mrk\u001b[0m \u001b[1;32mimport\u001b[0m \u001b[0mRK23\u001b[0m\u001b[1;33m,\u001b[0m \u001b[0mRK45\u001b[0m\u001b[1;33m,\u001b[0m \u001b[0mDOP853\u001b[0m\u001b[1;33m\u001b[0m\u001b[1;33m\u001b[0m\u001b[0m\n\u001b[0;32m      7\u001b[0m \u001b[1;32mfrom\u001b[0m \u001b[1;33m.\u001b[0m\u001b[0mlsoda\u001b[0m \u001b[1;32mimport\u001b[0m \u001b[0mLSODA\u001b[0m\u001b[1;33m\u001b[0m\u001b[1;33m\u001b[0m\u001b[0m\n\u001b[1;32m----> 8\u001b[1;33m \u001b[1;32mfrom\u001b[0m \u001b[0mscipy_cupy\u001b[0m\u001b[1;33m.\u001b[0m\u001b[0moptimize\u001b[0m \u001b[1;32mimport\u001b[0m \u001b[0mOptimizeResult\u001b[0m\u001b[1;33m\u001b[0m\u001b[1;33m\u001b[0m\u001b[0m\n\u001b[0m\u001b[0;32m      9\u001b[0m \u001b[1;32mfrom\u001b[0m \u001b[0mscipy\u001b[0m\u001b[1;33m.\u001b[0m\u001b[0moptimize\u001b[0m \u001b[1;32mimport\u001b[0m \u001b[0mOptimizeResult\u001b[0m \u001b[1;32mas\u001b[0m \u001b[0mOptimizeResultOriginal\u001b[0m\u001b[1;33m\u001b[0m\u001b[1;33m\u001b[0m\u001b[0m\n\u001b[0;32m     10\u001b[0m \u001b[1;32mfrom\u001b[0m \u001b[1;33m.\u001b[0m\u001b[0mcommon\u001b[0m \u001b[1;32mimport\u001b[0m \u001b[0mEPS\u001b[0m\u001b[1;33m,\u001b[0m \u001b[0mOdeSolution\u001b[0m\u001b[1;33m\u001b[0m\u001b[1;33m\u001b[0m\u001b[0m\n",
      "\u001b[1;32mc:\\Users\\Hafiz\\dev\\JClib\\JClib\\scipy_cupy\\optimize\\__init__.py\u001b[0m in \u001b[0;36m<module>\u001b[1;34m\u001b[0m\n\u001b[0;32m    402\u001b[0m \"\"\"\n\u001b[0;32m    403\u001b[0m \u001b[1;33m\u001b[0m\u001b[0m\n\u001b[1;32m--> 404\u001b[1;33m \u001b[1;32mfrom\u001b[0m \u001b[1;33m.\u001b[0m\u001b[0m_optimize\u001b[0m \u001b[1;32mimport\u001b[0m \u001b[1;33m*\u001b[0m\u001b[1;33m\u001b[0m\u001b[1;33m\u001b[0m\u001b[0m\n\u001b[0m\u001b[0;32m    405\u001b[0m \u001b[1;32mfrom\u001b[0m \u001b[1;33m.\u001b[0m\u001b[0m_minimize\u001b[0m \u001b[1;32mimport\u001b[0m \u001b[1;33m*\u001b[0m\u001b[1;33m\u001b[0m\u001b[1;33m\u001b[0m\u001b[0m\n\u001b[0;32m    406\u001b[0m \u001b[1;32mfrom\u001b[0m \u001b[1;33m.\u001b[0m\u001b[0m_root\u001b[0m \u001b[1;32mimport\u001b[0m \u001b[1;33m*\u001b[0m\u001b[1;33m\u001b[0m\u001b[1;33m\u001b[0m\u001b[0m\n",
      "\u001b[1;32mc:\\Users\\Hafiz\\dev\\JClib\\JClib\\scipy_cupy\\optimize\\_optimize.py\u001b[0m in \u001b[0;36m<module>\u001b[1;34m\u001b[0m\n\u001b[0;32m     35\u001b[0m                           \u001b[0mline_search_wolfe2\u001b[0m \u001b[1;32mas\u001b[0m \u001b[0mline_search\u001b[0m\u001b[1;33m,\u001b[0m\u001b[1;33m\u001b[0m\u001b[1;33m\u001b[0m\u001b[0m\n\u001b[0;32m     36\u001b[0m                           LineSearchWarning)\n\u001b[1;32m---> 37\u001b[1;33m \u001b[1;32mfrom\u001b[0m \u001b[1;33m.\u001b[0m\u001b[0m_numdiff\u001b[0m \u001b[1;32mimport\u001b[0m \u001b[0mapprox_derivative\u001b[0m\u001b[1;33m\u001b[0m\u001b[1;33m\u001b[0m\u001b[0m\n\u001b[0m\u001b[0;32m     38\u001b[0m \u001b[1;32mfrom\u001b[0m \u001b[1;33m.\u001b[0m\u001b[0m_hessian_update_strategy\u001b[0m \u001b[1;32mimport\u001b[0m \u001b[0mHessianUpdateStrategy\u001b[0m\u001b[1;33m\u001b[0m\u001b[1;33m\u001b[0m\u001b[0m\n\u001b[0;32m     39\u001b[0m \u001b[1;32mfrom\u001b[0m \u001b[0mscipy\u001b[0m\u001b[1;33m.\u001b[0m\u001b[0m_lib\u001b[0m\u001b[1;33m.\u001b[0m\u001b[0m_util\u001b[0m \u001b[1;32mimport\u001b[0m \u001b[0mgetfullargspec_no_self\u001b[0m \u001b[1;32mas\u001b[0m \u001b[0m_getfullargspec\u001b[0m\u001b[1;33m\u001b[0m\u001b[1;33m\u001b[0m\u001b[0m\n",
      "\u001b[1;32mc:\\Users\\Hafiz\\dev\\JClib\\JClib\\scipy_cupy\\optimize\\_numdiff.py\u001b[0m in \u001b[0;36m<module>\u001b[1;34m\u001b[0m\n\u001b[0;32m      5\u001b[0m \u001b[1;33m\u001b[0m\u001b[0m\n\u001b[0;32m      6\u001b[0m \u001b[1;32mfrom\u001b[0m \u001b[0mscipy\u001b[0m\u001b[1;33m.\u001b[0m\u001b[0msparse\u001b[0m\u001b[1;33m.\u001b[0m\u001b[0mlinalg\u001b[0m \u001b[1;32mimport\u001b[0m \u001b[0mLinearOperator\u001b[0m\u001b[1;33m\u001b[0m\u001b[1;33m\u001b[0m\u001b[0m\n\u001b[1;32m----> 7\u001b[1;33m \u001b[1;32mfrom\u001b[0m \u001b[1;33m.\u001b[0m\u001b[1;33m.\u001b[0m\u001b[0msparse\u001b[0m \u001b[1;32mimport\u001b[0m \u001b[0missparse\u001b[0m\u001b[1;33m,\u001b[0m \u001b[0mcsc_matrix\u001b[0m\u001b[1;33m,\u001b[0m \u001b[0mcsr_matrix\u001b[0m\u001b[1;33m,\u001b[0m \u001b[0mcoo_matrix\u001b[0m\u001b[1;33m,\u001b[0m \u001b[0mfind\u001b[0m\u001b[1;33m\u001b[0m\u001b[1;33m\u001b[0m\u001b[0m\n\u001b[0m\u001b[0;32m      8\u001b[0m \u001b[1;32mfrom\u001b[0m \u001b[1;33m.\u001b[0m\u001b[0m_group_columns\u001b[0m \u001b[1;32mimport\u001b[0m \u001b[0mgroup_dense\u001b[0m\u001b[1;33m,\u001b[0m \u001b[0mgroup_sparse\u001b[0m\u001b[1;33m\u001b[0m\u001b[1;33m\u001b[0m\u001b[0m\n\u001b[0;32m      9\u001b[0m \u001b[1;33m\u001b[0m\u001b[0m\n",
      "\u001b[1;31mModuleNotFoundError\u001b[0m: No module named 'scipy_cupy.sparse'"
     ]
    }
   ],
   "source": [
    "import numpy as np\n",
    "import cupy as cu\n",
    "import matplotlib.pyplot as plt\n",
    "from mpl_toolkits.mplot3d import Axes3D\n",
    "import time\n",
    "\n",
    "from scipy.integrate import odeint, solve_ivp\n",
    "from scipy.integrate._ivp.ivp import OdeResult\n",
    "\n",
    "from scipy_cupy.ivp import solve_ivp as solve_ivp_cupy\n",
    "from scipy_cupy.ivp.ivp import OdeResult as OdeResultCupyCustom\n",
    " \n",
    "# init plotter and helper runner func\n",
    "fig = plt.figure(figsize=(20, 10))\n",
    "nrows = 4\n",
    "ncols = 2\n",
    "fig_index = 0\n",
    "def run_and_plot(name, fun):\n",
    "    global fig_index, fig, nrows, ncols\n",
    "    \n",
    "    start_t = time.time()\n",
    "    res = fun()\n",
    "    end_t = time.time()\n",
    "    print(f'{name} took {end_t-start_t}s')\n",
    "\n",
    "    fig_index += 1\n",
    "    ax = fig.add_subplot(nrows, ncols, fig_index, projection='3d')\n",
    "    if (isinstance(res, np.ndarray)):\n",
    "        ax.plot(res[:, 0],\n",
    "                res[:, 1],\n",
    "                res[:, 2])\n",
    "    if (isinstance(res, OdeResult)):\n",
    "        ax.plot(res.y[0, :],\n",
    "                res.y[1, :],\n",
    "                res.y[2, :])\n",
    "    if (isinstance(res, OdeResultCupyCustom)):\n",
    "        if (hasattr(res.y[0, :], 'get')):\n",
    "            ax.plot(res.y[0, :].get(),\n",
    "                    res.y[1, :].get(),\n",
    "                    res.y[2, :].get())\n",
    "        else:\n",
    "            ax.plot(res.y[0, :],\n",
    "                    res.y[1, :],\n",
    "                    res.y[2, :])\n",
    "    ax.set_title(name)\n",
    "    \n",
    "\n",
    "def lorenz(t, state, sigma, beta, rho):\n",
    "    x, y, z = state\n",
    "     \n",
    "    dx = sigma * (y - x)\n",
    "    dy = x * (rho - z) - y\n",
    "    dz = x * y - beta * z\n",
    "     \n",
    "    return [dx, dy, dz]\n",
    " \n",
    "sigma = 10.0\n",
    "beta = 8.0 / 3.0\n",
    "rho = 28.0\n",
    " \n",
    "p = (sigma, beta, rho)  # Parameters of the system\n",
    "y0 = [1.0, 1.0, 1.0]  # Initial state of the system\n",
    "t_span = (0.0, 40.0)\n",
    "t = np.arange(0.0, 40.0, 0.01) # numpy t\n",
    "t_cupy = cu.arange(0.0, 40.0, 0.01) # cupy t\n",
    " \n",
    "run_and_plot(\"odeint\", lambda: odeint(lorenz, y0, t, p, tfirst=True))\n",
    "run_and_plot(\"scipy.solve_ivp\", lambda: solve_ivp(lorenz, t_span, y0, args=p))\n",
    "run_and_plot(\"scipy.solve_ivp (with t_eval)\", lambda: solve_ivp(lorenz, t_span, y0, args=p, t_eval=t))\n",
    "run_and_plot(\"scipy.solve_ivp with LSODA\", lambda:solve_ivp(lorenz, t_span, y0, args=p, t_eval=t, method='LSODA'))\n",
    "run_and_plot(\"solve_ivp_cupy\", lambda: solve_ivp_cupy(lorenz, t_span, y0, args=p))\n",
    "run_and_plot(\"solve_ivp_cupy (with numpy t_eval)\", lambda: solve_ivp_cupy(lorenz, t_span, y0, args=p, t_eval=t))\n",
    "run_and_plot(\"solve_ivp_cupy (with cupy t)\", lambda: solve_ivp_cupy(lorenz, t_span, y0, args=p, t_eval=t_cupy))\n"
   ]
  }
 ],
 "metadata": {
  "kernelspec": {
   "display_name": "Python 3",
   "language": "python",
   "name": "python3"
  },
  "language_info": {
   "codemirror_mode": {
    "name": "ipython",
    "version": 3
   },
   "file_extension": ".py",
   "mimetype": "text/x-python",
   "name": "python",
   "nbconvert_exporter": "python",
   "pygments_lexer": "ipython3",
   "version": "3.10.9"
  },
  "orig_nbformat": 4,
  "vscode": {
   "interpreter": {
    "hash": "850baa719a33aaea67a49025a8d6eaaea078c2d077b8d41bae650da18e76e062"
   }
  }
 },
 "nbformat": 4,
 "nbformat_minor": 2
}
