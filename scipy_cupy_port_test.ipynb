{
 "cells": [
  {
   "cell_type": "code",
   "execution_count": null,
   "metadata": {},
   "outputs": [
    {
     "ename": "",
     "evalue": "",
     "output_type": "error",
     "traceback": [
      "\u001b[1;31mRunning cells with '/Users/sogko/dev/github.com-sogko/JClib/.conda/bin/python' requires the ipykernel package.\n",
      "\u001b[1;31mRun the following command to install 'ipykernel' into the Python environment. \n",
      "\u001b[1;31mCommand: 'conda install -p /Users/sogko/dev/github.com-sogko/JClib/.conda ipykernel --update-deps --force-reinstall'"
     ]
    }
   ],
   "source": [
    "import numpy as np\n",
    "import cupy as cu\n",
    "import matplotlib.pyplot as plt\n",
    "from mpl_toolkits.mplot3d import Axes3D\n",
    "import time\n",
    "\n",
    "from scipy.integrate import odeint, solve_ivp\n",
    "from scipy.integrate._ivp.ivp import OdeResult\n",
    "\n",
    "from ivp import solve_ivp as solve_ivp_cupy\n",
    "from ivp.ivp import OdeResult as OdeResultCupyCustom\n",
    " \n",
    "# init plotter and helper runner func\n",
    "fig = plt.figure(figsize=(20, 10))\n",
    "nrows = 4\n",
    "ncols = 2\n",
    "fig_index = 0\n",
    "def run_and_plot(name, fun):\n",
    "    global fig_index, fig, nrows, ncols\n",
    "    \n",
    "    start_t = time.time()\n",
    "    res = fun()\n",
    "    end_t = time.time()\n",
    "    print(f'{name} took {end_t-start_t}s')\n",
    "\n",
    "    fig_index += 1\n",
    "    ax = fig.add_subplot(nrows, ncols, fig_index, projection='3d')\n",
    "    if (isinstance(res, np.ndarray)):\n",
    "        ax.plot(res[:, 0],\n",
    "                res[:, 1],\n",
    "                res[:, 2])\n",
    "    if (isinstance(res, OdeResult)):\n",
    "        ax.plot(res.y[0, :],\n",
    "                res.y[1, :],\n",
    "                res.y[2, :])\n",
    "    if (isinstance(res, OdeResultCupyCustom)):\n",
    "        if (hasattr(res.y[0, :], 'get')):\n",
    "            ax.plot(res.y[0, :].get(),\n",
    "                    res.y[1, :].get(),\n",
    "                    res.y[2, :].get())\n",
    "        else:\n",
    "            ax.plot(res.y[0, :],\n",
    "                    res.y[1, :],\n",
    "                    res.y[2, :])\n",
    "    ax.set_title(name)\n",
    "    \n",
    "\n",
    "def lorenz(t, state, sigma, beta, rho):\n",
    "    x, y, z = state\n",
    "     \n",
    "    dx = sigma * (y - x)\n",
    "    dy = x * (rho - z) - y\n",
    "    dz = x * y - beta * z\n",
    "     \n",
    "    return [dx, dy, dz]"
   ]
  }
 ],
 "metadata": {
  "kernelspec": {
   "display_name": "Python 3",
   "language": "python",
   "name": "python3"
  },
  "language_info": {
   "name": "python",
   "version": "3.10.9"
  },
  "orig_nbformat": 4,
  "vscode": {
   "interpreter": {
    "hash": "bf8a2dc1273ee8f231855489b5855cc645f9f8b101c4d0bd9c2d57c7d91c6abd"
   }
  }
 },
 "nbformat": 4,
 "nbformat_minor": 2
}
